import numpy as np
m=[1,2,3,4]
np.sum(m)
